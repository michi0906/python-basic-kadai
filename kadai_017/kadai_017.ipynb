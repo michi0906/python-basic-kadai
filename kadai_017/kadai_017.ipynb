{
  "nbformat": 4,
  "nbformat_minor": 0,
  "metadata": {
    "colab": {
      "provenance": []
    },
    "kernelspec": {
      "name": "python3",
      "display_name": "Python 3"
    },
    "language_info": {
      "name": "python"
    }
  },
  "cells": [
    {
      "cell_type": "code",
      "execution_count": null,
      "metadata": {
        "id": "sBOkMHTygRpg"
      },
      "outputs": [],
      "source": [
        "class Human:\n",
        "    def __init__(self, name, age):\n",
        "        self.name = name\n",
        "        self.age = age\n",
        "\n",
        "    def check_adult(self):\n",
        "        if self.age >= 20:\n",
        "            print(f\"{self.name}は大人です\")\n",
        "        else:\n",
        "            print(f\"{self.name}は大人ではありません\")\n",
        "\n",
        "people = [\n",
        "    Human(\"太郎\", 25),\n",
        "    Human(\"花子\", 18),\n",
        "    Human(\"次郎\", 20)\n",
        "]\n",
        "\n",
        "for person in people:\n",
        "    person.check_adult()"
      ]
    }
  ]
}