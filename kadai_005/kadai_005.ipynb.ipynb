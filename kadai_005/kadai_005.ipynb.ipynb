{
  "nbformat": 4,
  "nbformat_minor": 0,
  "metadata": {
    "colab": {
      "provenance": []
    },
    "kernelspec": {
      "name": "python3",
      "display_name": "Python 3"
    },
    "language_info": {
      "name": "python"
    }
  },
  "cells": [
    {
      "cell_type": "code",
      "execution_count": 1,
      "metadata": {
        "colab": {
          "base_uri": "https://localhost:8080/"
        },
        "id": "lqJV5XZqNPSc",
        "outputId": "0e55fc58-d01f-4af4-fad1-bf057eaeb308"
      },
      "outputs": [
        {
          "output_type": "stream",
          "name": "stdout",
          "text": [
            "75.0cm²\n"
          ]
        }
      ],
      "source": [
        "# 台形の面積を求めるプログラム\n",
        "\n",
        "top = 10      # 上辺\n",
        "bottom = 20   # 下辺\n",
        "height = 5    # 高さ\n",
        "\n",
        "area = (top + bottom) * height / 2\n",
        "\n",
        "print(str(area) + \"cm²\")\n"
      ]
    }
  ]
}