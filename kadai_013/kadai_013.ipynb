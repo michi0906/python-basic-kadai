{
  "nbformat": 4,
  "nbformat_minor": 0,
  "metadata": {
    "colab": {
      "provenance": []
    },
    "kernelspec": {
      "name": "python3",
      "display_name": "Python 3"
    },
    "language_info": {
      "name": "python"
    }
  },
  "cells": [
    {
      "cell_type": "code",
      "execution_count": 1,
      "metadata": {
        "colab": {
          "base_uri": "https://localhost:8080/"
        },
        "id": "-BV4vehCUmUi",
        "outputId": "b66dba6e-15b9-4a8b-e5ff-ba95720c0c92"
      },
      "outputs": [
        {
          "output_type": "stream",
          "name": "stdout",
          "text": [
            "121.0\n"
          ]
        }
      ],
      "source": [
        "def calc_tax(price, tax_rate):\n",
        "    return price + (price * tax_rate / 100)\n",
        "\n",
        "amount = calc_tax(110, 10)\n",
        "print(amount)"
      ]
    }
  ]
}